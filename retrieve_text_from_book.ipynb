{
 "cells": [
  {
   "cell_type": "code",
   "execution_count": 1,
   "metadata": {},
   "outputs": [],
   "source": [
    "#THIS NOTEBOOK RETRIEVES TEXT FROM EACH BOOK IN THE DATABASE AND LOAD IT TO ANOTHER TABLE AND SAVES IT AS PDF/WORD"
   ]
  }
 ],
 "metadata": {
  "kernelspec": {
   "display_name": "Python 3.9.13 64-bit (windows store)",
   "language": "python",
   "name": "python3"
  },
  "language_info": {
   "codemirror_mode": {
    "name": "ipython",
    "version": 3
   },
   "file_extension": ".py",
   "mimetype": "text/x-python",
   "name": "python",
   "nbconvert_exporter": "python",
   "pygments_lexer": "ipython3",
   "version": "3.9.13"
  },
  "orig_nbformat": 4,
  "vscode": {
   "interpreter": {
    "hash": "c48e7424d929aac037108fc6437207f5fe324994850b5a0981a977552318ad6b"
   }
  }
 },
 "nbformat": 4,
 "nbformat_minor": 2
}
