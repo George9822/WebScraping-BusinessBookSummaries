{
 "cells": [
  {
   "cell_type": "code",
   "execution_count": 150,
   "metadata": {},
   "outputs": [
    {
     "name": "stdout",
     "output_type": "stream",
     "text": [
      "Cărți - StiintaBanilor\n"
     ]
    }
   ],
   "source": [
    "# THIS NOTEBOOK IS RETRIEVING DETAILS ABOUT SOME BOOKS FROM `STIINTABANILOR.RO` AND LOAD THEM INTO THE PSQL DB\n",
    "from bs4 import BeautifulSoup\n",
    "from pprint import pprint\n",
    "import requests\n",
    "\n",
    "page = requests.get(\"https://stiintabanilor.ro/carti\")\n",
    "soup = BeautifulSoup(page.content, 'html.parser')\n",
    "title = soup.title.text # gets you the text of the <title>(...)</title>\n",
    "\n",
    "# Extract title of page\n",
    "page_title = soup.title.text\n",
    "\n",
    "# print the result\n",
    "print(page_title)"
   ]
  },
  {
   "cell_type": "code",
   "execution_count": 151,
   "metadata": {},
   "outputs": [
    {
     "name": "stdout",
     "output_type": "stream",
     "text": [
      "Cărți - StiintaBanilor\n",
      "<class 'list'>\n",
      "[('Banii. Stăpânește jocul – Tony Robbins', 'https://stiintabanilor.ro/carti/banii-stapaneste-jocul-tony-robbins/', ' 2014, 800 pag.'), ('Secretele minții de milionar – T. Harv Eker', 'https://stiintabanilor.ro/carti/secretele-mintii-de-milionar-t-harv-eker/', ' 2019, 224 pag.'), ('Drumul către libertatea financiară – Bodo Schäfer', 'https://stiintabanilor.ro/carti/drumul-catre-libertatea-financiara-bodo-schafer/', ' 2011, 384 pag.'), ('Cel mai bogat om din Babilon – George S. Clason', 'https://stiintabanilor.ro/carti/cel-mai-bogat-om-din-babilon-george-s-clason/', ' 1926, 144 pag.'), ('Copil bogat, copil isteț – Robert Kiyosaki', 'https://stiintabanilor.ro/carti/copil-bogat-copil-istet-robert-kiyosaki/', ' 2008, 296 pag.'), ('Million Dollar Habits – Brian Tracy', 'https://stiintabanilor.ro/carti/million-dollar-habits-brian-tracy/', ' 2017, 252 pag.'), ('The Psychology of Money – Morgan Housel', 'https://stiintabanilor.ro/carti/the-psychology-of-money-morgan-housel/', ' 2020, 256 pag.'), ('Dragă, unde-s banii? – Adrian Asoltanie', 'https://stiintabanilor.ro/carti/draga-unde-s-banii-adrian-asoltanie/', ' 2021, 312 pag.'), ('Milionarul de lângă noi – Thomas Stanley și William Danko', 'https://stiintabanilor.ro/carti/milionarul-de-langa-noi-thomas-stanley-si-william-danko/', ' 1996, 296 pag.'), ('The Simple Path to Wealth – JL Collins', 'https://stiintabanilor.ro/carti/the-simple-path-to-wealth-jl-collins/', ' 2016, 286 pag.'), ('Tată bogat, tată sărac – Robert T. Kiyosaki', 'https://stiintabanilor.ro/carti/tata-bogat-tata-sarac-robert-t-kiyosaki/', ' 1997, 192 pag.'), ('Planul financiar de o pagină – Carl Richards', 'https://stiintabanilor.ro/carti/planul-financiar-de-o-pagina-carl-richards/', ' 2020, 256 pag.'), ('Opusul lui răsfățat – Ron Lieber', 'https://stiintabanilor.ro/carti/opusul-lui-rasfatat-ron-lieber/', ' 2019, 256 pag.'), ('Școala vieții – Jim Rogers', 'https://stiintabanilor.ro/carti/scoala-vietii-jim-rogers/', ' 2015, 237 pag.'), ('Conducta de milioane – Burke Hedges', 'https://stiintabanilor.ro/carti/conducta-de-milioane-burke-hedges/', ' 2013, 144 pag.'), ('Știința banilor – Brian Tracy și Dan Strutzel', 'https://stiintabanilor.ro/carti/stiinta-banilor-brian-tracy-si-dan-strutzel/', ' 2019, 272 pag.'), ('Investitorul inteligent – Benjamin Graham', 'https://stiintabanilor.ro/carti/investitorul-inteligent-benjamin-graham/', ' 2003, 656 pag.'), ('Semnalul de 3% – Jason Kelly', 'https://stiintabanilor.ro/carti/semnalul-de-3-jason-kelly/', ' 2020, 448 pag.'), ('Haihui pe Wall Street – Burton G. Malkiel', 'https://stiintabanilor.ro/carti/haihui-pe-wall-street-burton-g-malkiel/', ' 2018, 576 pag.'), ('One Up On Wall Street – Peter Lynch', 'https://stiintabanilor.ro/carti/one-upon-wall-street-peter-lynch/', ' 1989, 304 pag.'), ('Minighid de investiții bine chibzuite – John C. Bogle', 'https://stiintabanilor.ro/carti/minighid-de-investitii-bine-chibzuite-john-c-bogle/', ' 2013, 256 pag.'), ('Revoluția blockchain – Don Tapscott\\xa0și\\xa0Alex Tapscott', 'https://stiintabanilor.ro/carti/revolutia-blockchain-don-tapscott-si-alex-tapscott/', ' 2016, 576 pag.'), ('Minighid de protejare a activelor – David M. Darst', 'https://stiintabanilor.ro/carti/minighid-de-protejare-a-activelor-david-m-darst/', ' 2014, 248 pag.'), ('The Little Book of Value Investing – Christopher H. Browne', 'https://stiintabanilor.ro/carti/the-little-book-of-value-investing-christopher-h-browne/', ' 2008, 208 pag.'), ('Eficiența în 7 trepte – Stephen R. Covey', 'https://stiintabanilor.ro/carti/eficienta-in-7-trepte-stephen-r-covey/', ' 1989, 319 pag.'), ('Deep Work – Cal Newport', 'https://stiintabanilor.ro/carti/deep-work-cal-newport/', ' 2016, 304 pag.'), ('Atomic Habits – James Clear', 'https://stiintabanilor.ro/carti/atomic-habits-james-clear/', ' 2019, 272 pag.'), ('Incepe cu ce nu îți place – Brian Tracy', 'https://stiintabanilor.ro/carti/incepe-cu-ce-nu-iti-place-brian-tracy/', ' 2015, 116 pag.'), ('Ascensiunea banilor – Niall Ferguson', 'https://stiintabanilor.ro/carti/ascensiunea-banilor-niall-ferguson/', ' 2016, 272 pag.'), ('Principii – Ray Dalio', 'https://stiintabanilor.ro/carti/principii-ray-dalio/', ' 2018, 560 pag.'), ('Șlefuitorul de diamante – Geshe Michael Roach\\xa0și\\xa0Lama Christie McNally', 'https://stiintabanilor.ro/carti/slefuitorul-de-diamante-geshe-michael-roach-si-lama-christie-mcnally/', ' 2014, 372 pag.'), ('Atitudinea este totul – Jeff Keller', 'https://stiintabanilor.ro/carti/atitudinea-este-totul-jeff-keller/', ' 2018, 168 pag.'), ('Fără limite – John Maxwell', 'https://stiintabanilor.ro/carti/fara-limite-john-maxwell/', ' 2017, 284 pag.')]\n"
     ]
    }
   ],
   "source": [
    "# Make a request\n",
    "page = requests.get(\n",
    "    \"https://stiintabanilor.ro/carti\")\n",
    "soup = BeautifulSoup(page.content, 'html.parser')\n",
    "\n",
    "# Extract title of page\n",
    "page_title = soup.title.text\n",
    "print(page_title)\n",
    "\n",
    "# Extract body of page\n",
    "page_body = soup.body\n",
    "\n",
    "# Extract head of page\n",
    "page_head = soup.head\n",
    "\n",
    "# print the result\n",
    "# print(page_body, page_head)\n",
    "mydivs = soup.find_all(\"a\", class_=\"archive-books-grid-col\")\n",
    "# print(mydivs)\n",
    "\n",
    "book_titles = [title.text for title in soup.find_all('h3', {'class' : 'book-title'})]\n",
    "book_stats = [stats.text for stats in soup.find_all('div', {'class': 'book-stats-details'})]\n",
    "book_stats = [ ','.join(x) for x in zip(book_stats[0::2], book_stats[1::2]) ]\n",
    "book_urls = [i.get('href') for i in mydivs]\n",
    "\n",
    "\n",
    "# [i.get('href') for i in mydivs]\n",
    "\n",
    "books_dict = [(book_titles[i],book_urls[i],book_stats[i]) for i in range(len(book_titles))]\n",
    "print(type(books_dict))\n",
    "print(books_dict)\n",
    "\n",
    "# for i in range(len(book_titles)):\n",
    "#     print((book_titles[i],book_urls[i],book_stats[i]))\n"
   ]
  },
  {
   "cell_type": "code",
   "execution_count": 154,
   "metadata": {},
   "outputs": [],
   "source": [
    "import psycopg2\n",
    "\n",
    "def insert_records(books_dict, connection):\n",
    "  cursor = connection.cursor()\n",
    "  args = ','.join(['%s'] * len(books_dict))\n",
    "  sql = \"insert into carti_stiinta_banilor (titlu, url, date) values {}\".format(args)\n",
    "\n",
    "  print (cursor.mogrify(sql, books_dict).decode('utf8'))\n",
    "\n",
    "  cursor.execute(sql, books_dict)\n",
    "  connection.commit()\n",
    "  count = cursor.rowcount\n",
    "  \n",
    "  cursor.close()\n",
    "\n",
    "  return count\n",
    "\n",
    "def inserting(books_dict):\n",
    "  try:\n",
    "    connection = psycopg2.connect(user=\"postgres\",\n",
    "      password=\"2002\",\n",
    "      host=\"127.0.0.1\",\n",
    "      port=\"5432\",\n",
    "      database=\"web_scraping\")\n",
    "\n",
    "    count = insert_records(books_dict, connection)\n",
    "    print(count, \" Record(s) inserted successfully into carti_stiinta_banilor table\") # SUCCESS TO THE LOG TABLE\n",
    "\n",
    "\n",
    "  except (Exception, psycopg2.Error) as error:\n",
    "    print(\"Failed to insert record into the table: \\n\", error) # ERR TO THE LOG TABLE\n",
    "\n",
    "  finally:\n",
    "    # closing database connection.\n",
    "    if connection:\n",
    "      connection.close()\n",
    "      print(\"PostgreSQL connection is closed\") # STATUS TO THE LOG TABLE"
   ]
  },
  {
   "cell_type": "code",
   "execution_count": 155,
   "metadata": {},
   "outputs": [
    {
     "name": "stdout",
     "output_type": "stream",
     "text": [
      "insert into carti_stiinta_banilor (titlu, url, date) values ('Banii. Stăpânește jocul – Tony Robbins', 'https://stiintabanilor.ro/carti/banii-stapaneste-jocul-tony-robbins/', ' 2014, 800 pag.'),('Secretele minții de milionar – T. Harv Eker', 'https://stiintabanilor.ro/carti/secretele-mintii-de-milionar-t-harv-eker/', ' 2019, 224 pag.'),('Drumul către libertatea financiară – Bodo Schäfer', 'https://stiintabanilor.ro/carti/drumul-catre-libertatea-financiara-bodo-schafer/', ' 2011, 384 pag.'),('Cel mai bogat om din Babilon – George S. Clason', 'https://stiintabanilor.ro/carti/cel-mai-bogat-om-din-babilon-george-s-clason/', ' 1926, 144 pag.'),('Copil bogat, copil isteț – Robert Kiyosaki', 'https://stiintabanilor.ro/carti/copil-bogat-copil-istet-robert-kiyosaki/', ' 2008, 296 pag.'),('Million Dollar Habits – Brian Tracy', 'https://stiintabanilor.ro/carti/million-dollar-habits-brian-tracy/', ' 2017, 252 pag.'),('The Psychology of Money – Morgan Housel', 'https://stiintabanilor.ro/carti/the-psychology-of-money-morgan-housel/', ' 2020, 256 pag.'),('Dragă, unde-s banii? – Adrian Asoltanie', 'https://stiintabanilor.ro/carti/draga-unde-s-banii-adrian-asoltanie/', ' 2021, 312 pag.'),('Milionarul de lângă noi – Thomas Stanley și William Danko', 'https://stiintabanilor.ro/carti/milionarul-de-langa-noi-thomas-stanley-si-william-danko/', ' 1996, 296 pag.'),('The Simple Path to Wealth – JL Collins', 'https://stiintabanilor.ro/carti/the-simple-path-to-wealth-jl-collins/', ' 2016, 286 pag.'),('Tată bogat, tată sărac – Robert T. Kiyosaki', 'https://stiintabanilor.ro/carti/tata-bogat-tata-sarac-robert-t-kiyosaki/', ' 1997, 192 pag.'),('Planul financiar de o pagină – Carl Richards', 'https://stiintabanilor.ro/carti/planul-financiar-de-o-pagina-carl-richards/', ' 2020, 256 pag.'),('Opusul lui răsfățat – Ron Lieber', 'https://stiintabanilor.ro/carti/opusul-lui-rasfatat-ron-lieber/', ' 2019, 256 pag.'),('Școala vieții – Jim Rogers', 'https://stiintabanilor.ro/carti/scoala-vietii-jim-rogers/', ' 2015, 237 pag.'),('Conducta de milioane – Burke Hedges', 'https://stiintabanilor.ro/carti/conducta-de-milioane-burke-hedges/', ' 2013, 144 pag.'),('Știința banilor – Brian Tracy și Dan Strutzel', 'https://stiintabanilor.ro/carti/stiinta-banilor-brian-tracy-si-dan-strutzel/', ' 2019, 272 pag.'),('Investitorul inteligent – Benjamin Graham', 'https://stiintabanilor.ro/carti/investitorul-inteligent-benjamin-graham/', ' 2003, 656 pag.'),('Semnalul de 3% – Jason Kelly', 'https://stiintabanilor.ro/carti/semnalul-de-3-jason-kelly/', ' 2020, 448 pag.'),('Haihui pe Wall Street – Burton G. Malkiel', 'https://stiintabanilor.ro/carti/haihui-pe-wall-street-burton-g-malkiel/', ' 2018, 576 pag.'),('One Up On Wall Street – Peter Lynch', 'https://stiintabanilor.ro/carti/one-upon-wall-street-peter-lynch/', ' 1989, 304 pag.'),('Minighid de investiții bine chibzuite – John C. Bogle', 'https://stiintabanilor.ro/carti/minighid-de-investitii-bine-chibzuite-john-c-bogle/', ' 2013, 256 pag.'),('Revoluția blockchain – Don Tapscott și Alex Tapscott', 'https://stiintabanilor.ro/carti/revolutia-blockchain-don-tapscott-si-alex-tapscott/', ' 2016, 576 pag.'),('Minighid de protejare a activelor – David M. Darst', 'https://stiintabanilor.ro/carti/minighid-de-protejare-a-activelor-david-m-darst/', ' 2014, 248 pag.'),('The Little Book of Value Investing – Christopher H. Browne', 'https://stiintabanilor.ro/carti/the-little-book-of-value-investing-christopher-h-browne/', ' 2008, 208 pag.'),('Eficiența în 7 trepte – Stephen R. Covey', 'https://stiintabanilor.ro/carti/eficienta-in-7-trepte-stephen-r-covey/', ' 1989, 319 pag.'),('Deep Work – Cal Newport', 'https://stiintabanilor.ro/carti/deep-work-cal-newport/', ' 2016, 304 pag.'),('Atomic Habits – James Clear', 'https://stiintabanilor.ro/carti/atomic-habits-james-clear/', ' 2019, 272 pag.'),('Incepe cu ce nu îți place – Brian Tracy', 'https://stiintabanilor.ro/carti/incepe-cu-ce-nu-iti-place-brian-tracy/', ' 2015, 116 pag.'),('Ascensiunea banilor – Niall Ferguson', 'https://stiintabanilor.ro/carti/ascensiunea-banilor-niall-ferguson/', ' 2016, 272 pag.'),('Principii – Ray Dalio', 'https://stiintabanilor.ro/carti/principii-ray-dalio/', ' 2018, 560 pag.'),('Șlefuitorul de diamante – Geshe Michael Roach și Lama Christie McNally', 'https://stiintabanilor.ro/carti/slefuitorul-de-diamante-geshe-michael-roach-si-lama-christie-mcnally/', ' 2014, 372 pag.'),('Atitudinea este totul – Jeff Keller', 'https://stiintabanilor.ro/carti/atitudinea-este-totul-jeff-keller/', ' 2018, 168 pag.'),('Fără limite – John Maxwell', 'https://stiintabanilor.ro/carti/fara-limite-john-maxwell/', ' 2017, 284 pag.')\n",
      "Failed to insert record into the table: \n",
      " duplicate key value violates unique constraint \"carti_stiinta_banilor_un\"\n",
      "DETAIL:  Key (url)=(https://stiintabanilor.ro/carti/banii-stapaneste-jocul-tony-robbins/) already exists.\n",
      "\n",
      "PostgreSQL connection is closed\n"
     ]
    }
   ],
   "source": [
    "inserting(books_dict)"
   ]
  }
 ],
 "metadata": {
  "kernelspec": {
   "display_name": "Python 3.9.13 64-bit (windows store)",
   "language": "python",
   "name": "python3"
  },
  "language_info": {
   "codemirror_mode": {
    "name": "ipython",
    "version": 3
   },
   "file_extension": ".py",
   "mimetype": "text/x-python",
   "name": "python",
   "nbconvert_exporter": "python",
   "pygments_lexer": "ipython3",
   "version": "3.9.13"
  },
  "orig_nbformat": 4,
  "vscode": {
   "interpreter": {
    "hash": "c48e7424d929aac037108fc6437207f5fe324994850b5a0981a977552318ad6b"
   }
  }
 },
 "nbformat": 4,
 "nbformat_minor": 2
}
